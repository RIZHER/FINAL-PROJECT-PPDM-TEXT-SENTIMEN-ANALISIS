{
 "cells": [
  {
   "cell_type": "code",
   "execution_count": 22,
   "metadata": {},
   "outputs": [],
   "source": [
    "import pandas as pd \n",
    "import numpy as np\n",
    "import ast\n",
    "from sklearn.feature_extraction.text import TfidfVectorizer, CountVectorizer\n",
    "from sklearn.preprocessing import normalize\n",
    "from sklearn.model_selection import train_test_split\n",
    "from sklearn.model_selection import train_test_split\n",
    "import pandas as pd\n",
    "from sklearn.feature_selection import SelectPercentile, chi2\n",
    "from sklearn.naive_bayes import MultinomialNB\n",
    "from sklearn.metrics import accuracy_score, precision_score, recall_score, f1_score\n",
    "from sklearn import metrics\n",
    "from sklearn.metrics import confusion_matrix\n",
    "import seaborn as sn\n",
    "import matplotlib.pyplot as plt\n",
    "import joblib"
   ]
  },
  {
   "cell_type": "code",
   "execution_count": 23,
   "metadata": {},
   "outputs": [
    {
     "data": {
      "text/html": [
       "<div>\n",
       "<style scoped>\n",
       "    .dataframe tbody tr th:only-of-type {\n",
       "        vertical-align: middle;\n",
       "    }\n",
       "\n",
       "    .dataframe tbody tr th {\n",
       "        vertical-align: top;\n",
       "    }\n",
       "\n",
       "    .dataframe thead th {\n",
       "        text-align: right;\n",
       "    }\n",
       "</style>\n",
       "<table border=\"1\" class=\"dataframe\">\n",
       "  <thead>\n",
       "    <tr style=\"text-align: right;\">\n",
       "      <th></th>\n",
       "      <th>label</th>\n",
       "      <th>reviews</th>\n",
       "    </tr>\n",
       "  </thead>\n",
       "  <tbody>\n",
       "    <tr>\n",
       "      <th>0</th>\n",
       "      <td>1</td>\n",
       "      <td>['kemeja', 'bagus', 'banget', 'a', 'ngis', 'kn...</td>\n",
       "    </tr>\n",
       "    <tr>\n",
       "      <th>1</th>\n",
       "      <td>0</td>\n",
       "      <td>['jahitanya', 'rapi', 'cuman', 'benang', 'jahi...</td>\n",
       "    </tr>\n",
       "    <tr>\n",
       "      <th>2</th>\n",
       "      <td>0</td>\n",
       "      <td>['sesuai', 'harga', 'tipis', 'oke', 'warna', '...</td>\n",
       "    </tr>\n",
       "    <tr>\n",
       "      <th>3</th>\n",
       "      <td>1</td>\n",
       "      <td>['gila', 'bagus', 'worth', 'it', 'lembut', 'ba...</td>\n",
       "    </tr>\n",
       "    <tr>\n",
       "      <th>4</th>\n",
       "      <td>0</td>\n",
       "      <td>['kain', 'bagus', 'halus', 'buka', 'kotor', 'y...</td>\n",
       "    </tr>\n",
       "  </tbody>\n",
       "</table>\n",
       "</div>"
      ],
      "text/plain": [
       "   label                                            reviews\n",
       "0      1  ['kemeja', 'bagus', 'banget', 'a', 'ngis', 'kn...\n",
       "1      0  ['jahitanya', 'rapi', 'cuman', 'benang', 'jahi...\n",
       "2      0  ['sesuai', 'harga', 'tipis', 'oke', 'warna', '...\n",
       "3      1  ['gila', 'bagus', 'worth', 'it', 'lembut', 'ba...\n",
       "4      0  ['kain', 'bagus', 'halus', 'buka', 'kotor', 'y..."
      ]
     },
     "execution_count": 23,
     "metadata": {},
     "output_type": "execute_result"
    }
   ],
   "source": [
    "reviews_data = pd.read_excel(\"Hasil_Preprocessing.xlsx\", usecols=[\"Label\", \"stemming\"])\n",
    "reviews_data.columns = [\"label\", \"reviews\"]\n",
    "\n",
    "reviews_data.head()"
   ]
  },
  {
   "cell_type": "code",
   "execution_count": 24,
   "metadata": {},
   "outputs": [
    {
     "data": {
      "text/plain": [
       "0    kemeja bagus banget a ngis knpa tidak dari dul...\n",
       "1              jahitanya rapi cuman benang jahit jelek\n",
       "2    sesuai harga tipis oke warna abu kalau di foto...\n",
       "3    gila bagus worth it lembut baju kirain tipis s...\n",
       "4           kain bagus halus buka kotor ya warna putih\n",
       "Name: reviews_join, dtype: object"
      ]
     },
     "execution_count": 24,
     "metadata": {},
     "output_type": "execute_result"
    }
   ],
   "source": [
    "def join_text_list(texts):\n",
    "    texts = ast.literal_eval(texts)\n",
    "    return ' '.join([text for text in texts])\n",
    "reviews_data[\"reviews_join\"] = reviews_data[\"reviews\"].apply(join_text_list)\n",
    "\n",
    "reviews_data[\"reviews_join\"].head()"
   ]
  },
  {
   "cell_type": "code",
   "execution_count": 25,
   "metadata": {},
   "outputs": [
    {
     "data": {
      "text/html": [
       "<div>\n",
       "<style scoped>\n",
       "    .dataframe tbody tr th:only-of-type {\n",
       "        vertical-align: middle;\n",
       "    }\n",
       "\n",
       "    .dataframe tbody tr th {\n",
       "        vertical-align: top;\n",
       "    }\n",
       "\n",
       "    .dataframe thead th {\n",
       "        text-align: right;\n",
       "    }\n",
       "</style>\n",
       "<table border=\"1\" class=\"dataframe\">\n",
       "  <thead>\n",
       "    <tr style=\"text-align: right;\">\n",
       "      <th></th>\n",
       "      <th>label</th>\n",
       "      <th>reviews</th>\n",
       "      <th>reviews_join</th>\n",
       "    </tr>\n",
       "  </thead>\n",
       "  <tbody>\n",
       "    <tr>\n",
       "      <th>0</th>\n",
       "      <td>1</td>\n",
       "      <td>['kemeja', 'bagus', 'banget', 'a', 'ngis', 'kn...</td>\n",
       "      <td>kemeja bagus banget a ngis knpa tidak dari dul...</td>\n",
       "    </tr>\n",
       "    <tr>\n",
       "      <th>1</th>\n",
       "      <td>0</td>\n",
       "      <td>['jahitanya', 'rapi', 'cuman', 'benang', 'jahi...</td>\n",
       "      <td>jahitanya rapi cuman benang jahit jelek</td>\n",
       "    </tr>\n",
       "    <tr>\n",
       "      <th>2</th>\n",
       "      <td>0</td>\n",
       "      <td>['sesuai', 'harga', 'tipis', 'oke', 'warna', '...</td>\n",
       "      <td>sesuai harga tipis oke warna abu kalau di foto...</td>\n",
       "    </tr>\n",
       "    <tr>\n",
       "      <th>3</th>\n",
       "      <td>1</td>\n",
       "      <td>['gila', 'bagus', 'worth', 'it', 'lembut', 'ba...</td>\n",
       "      <td>gila bagus worth it lembut baju kirain tipis s...</td>\n",
       "    </tr>\n",
       "    <tr>\n",
       "      <th>4</th>\n",
       "      <td>0</td>\n",
       "      <td>['kain', 'bagus', 'halus', 'buka', 'kotor', 'y...</td>\n",
       "      <td>kain bagus halus buka kotor ya warna putih</td>\n",
       "    </tr>\n",
       "    <tr>\n",
       "      <th>...</th>\n",
       "      <td>...</td>\n",
       "      <td>...</td>\n",
       "      <td>...</td>\n",
       "    </tr>\n",
       "    <tr>\n",
       "      <th>826</th>\n",
       "      <td>1</td>\n",
       "      <td>['terima', 'kasih', 'barang', 'sesuai', 'ukur'...</td>\n",
       "      <td>terima kasih barang sesuai ukur sesuai gambar ...</td>\n",
       "    </tr>\n",
       "    <tr>\n",
       "      <th>827</th>\n",
       "      <td>1</td>\n",
       "      <td>['mantap', 'realpict', 'bangt', 'emas', 'cuman...</td>\n",
       "      <td>mantap realpict bangt emas cuman plastik aja s...</td>\n",
       "    </tr>\n",
       "    <tr>\n",
       "      <th>828</th>\n",
       "      <td>1</td>\n",
       "      <td>['suka', 'banget', 'tas', 'tidak', 'seperti', ...</td>\n",
       "      <td>suka banget tas tidak seperti tas local keren ...</td>\n",
       "    </tr>\n",
       "    <tr>\n",
       "      <th>829</th>\n",
       "      <td>1</td>\n",
       "      <td>['kualitas', 'produk', 'produk', 'original', '...</td>\n",
       "      <td>kualitas produk produk original harga produk</td>\n",
       "    </tr>\n",
       "    <tr>\n",
       "      <th>830</th>\n",
       "      <td>1</td>\n",
       "      <td>['barang', 'sudah', 'dengan', 'selamat', 'mant...</td>\n",
       "      <td>barang sudah dengan selamat mantul banget dah ...</td>\n",
       "    </tr>\n",
       "  </tbody>\n",
       "</table>\n",
       "<p>831 rows × 3 columns</p>\n",
       "</div>"
      ],
      "text/plain": [
       "     label                                            reviews  \\\n",
       "0        1  ['kemeja', 'bagus', 'banget', 'a', 'ngis', 'kn...   \n",
       "1        0  ['jahitanya', 'rapi', 'cuman', 'benang', 'jahi...   \n",
       "2        0  ['sesuai', 'harga', 'tipis', 'oke', 'warna', '...   \n",
       "3        1  ['gila', 'bagus', 'worth', 'it', 'lembut', 'ba...   \n",
       "4        0  ['kain', 'bagus', 'halus', 'buka', 'kotor', 'y...   \n",
       "..     ...                                                ...   \n",
       "826      1  ['terima', 'kasih', 'barang', 'sesuai', 'ukur'...   \n",
       "827      1  ['mantap', 'realpict', 'bangt', 'emas', 'cuman...   \n",
       "828      1  ['suka', 'banget', 'tas', 'tidak', 'seperti', ...   \n",
       "829      1  ['kualitas', 'produk', 'produk', 'original', '...   \n",
       "830      1  ['barang', 'sudah', 'dengan', 'selamat', 'mant...   \n",
       "\n",
       "                                          reviews_join  \n",
       "0    kemeja bagus banget a ngis knpa tidak dari dul...  \n",
       "1              jahitanya rapi cuman benang jahit jelek  \n",
       "2    sesuai harga tipis oke warna abu kalau di foto...  \n",
       "3    gila bagus worth it lembut baju kirain tipis s...  \n",
       "4           kain bagus halus buka kotor ya warna putih  \n",
       "..                                                 ...  \n",
       "826  terima kasih barang sesuai ukur sesuai gambar ...  \n",
       "827  mantap realpict bangt emas cuman plastik aja s...  \n",
       "828  suka banget tas tidak seperti tas local keren ...  \n",
       "829       kualitas produk produk original harga produk  \n",
       "830  barang sudah dengan selamat mantul banget dah ...  \n",
       "\n",
       "[831 rows x 3 columns]"
      ]
     },
     "execution_count": 25,
     "metadata": {},
     "output_type": "execute_result"
    }
   ],
   "source": [
    "reviews_data"
   ]
  },
  {
   "cell_type": "code",
   "execution_count": 26,
   "metadata": {},
   "outputs": [],
   "source": [
    "label = reviews_data[\"label\"]\n",
    "text = reviews_data[\"reviews_join\"]"
   ]
  },
  {
   "cell_type": "code",
   "execution_count": 27,
   "metadata": {},
   "outputs": [
    {
     "name": "stdout",
     "output_type": "stream",
     "text": [
      "Jumlah data latih positif: 302\n",
      "Jumlah data latih negatif: 362\n",
      "Jumlah data uji positif: 83\n",
      "Jumlah data uji negatif: 84\n"
     ]
    }
   ],
   "source": [
    "# Memisahkan data menjadi data train dan data test\n",
    "train_data, test_data, train_labels, test_labels = train_test_split(text, label, test_size=0.2, random_state=42)\n",
    "\n",
    "# Menggabungkan data train dan labels menjadi satu dataframe\n",
    "train_df = pd.DataFrame({'text': train_data, 'label': train_labels})\n",
    "\n",
    "# Menghitung jumlah data positif dan negatif pada data train\n",
    "positive_count_train = (train_df['label'] == 1).sum()\n",
    "negative_count_train = (train_df['label'] == 0).sum()\n",
    "\n",
    "# Menentukan kelas dengan jumlah data terkecil\n",
    "min_count = min(positive_count_train, negative_count_train)\n",
    "\n",
    "# Mengambil sampel acak dari kelas positif dan negatif dengan ukuran yang sama\n",
    "positive_samples = train_df[train_df['label'] == 1].sample(n=min_count, random_state=42)\n",
    "negative_samples = train_df[train_df['label'] == 0].sample(n=min_count, random_state=42)\n",
    "\n",
    "# Menggabungkan kembali sampel positif dan negatif menjadi satu dataframe\n",
    "balanced_train_df = pd.concat([positive_samples, negative_samples])\n",
    "\n",
    "# Memisahkan data dan labels pada data train yang seimbang\n",
    "balanced_train_data = balanced_train_df['text']\n",
    "balanced_train_labels = balanced_train_df['label']\n",
    "\n",
    "# Menghitung rasio data positif dan negatif pada data train yang seimbang\n",
    "total_count_train = len(balanced_train_labels)\n",
    "positive_ratio_train = (balanced_train_labels == 1).sum() / total_count_train\n",
    "negative_ratio_train = (balanced_train_labels == 0).sum() / total_count_train\n",
    "\n",
    "# Menghitung jumlah data positif dan negatif pada data test\n",
    "positive_count_test = (test_labels == 1).sum()\n",
    "negative_count_test = (test_labels == 0).sum()\n",
    "\n",
    "# Menghitung rasio data positif dan negatif pada data test\n",
    "total_count_test = len(test_labels)\n",
    "positive_ratio_test = positive_count_test / total_count_test\n",
    "negative_ratio_test = negative_count_test / total_count_test\n",
    "\n",
    "# Mencetak jumlah data training dan testing untuk kelas positif dan negatif\n",
    "print(\"Jumlah data latih positif:\", positive_count_train)\n",
    "print(\"Jumlah data latih negatif:\", negative_count_train)\n",
    "print(\"Jumlah data uji positif:\", positive_count_test)\n",
    "print(\"Jumlah data uji negatif:\", negative_count_test)\n"
   ]
  },
  {
   "cell_type": "code",
   "execution_count": 28,
   "metadata": {},
   "outputs": [
    {
     "name": "stdout",
     "output_type": "stream",
     "text": [
      "TF vector pada train set:\n",
      "[[0 0 0 ... 0 0 0]\n",
      " [0 0 0 ... 0 0 0]\n",
      " [0 0 0 ... 0 0 0]\n",
      " ...\n",
      " [0 0 0 ... 0 0 0]\n",
      " [0 0 0 ... 0 0 0]\n",
      " [0 0 0 ... 0 0 0]]\n",
      "Normalized TF vector pada train set:\n",
      "[[0. 0. 0. ... 0. 0. 0.]\n",
      " [0. 0. 0. ... 0. 0. 0.]\n",
      " [0. 0. 0. ... 0. 0. 0.]\n",
      " ...\n",
      " [0. 0. 0. ... 0. 0. 0.]\n",
      " [0. 0. 0. ... 0. 0. 0.]\n",
      " [0. 0. 0. ... 0. 0. 0.]]\n"
     ]
    }
   ],
   "source": [
    "# Perhitungan TF vector pada train set\n",
    "cvect = CountVectorizer()\n",
    "TF_vector_train = cvect.fit_transform(train_data)\n",
    "\n",
    "# Normalisasi TF vector pada train set\n",
    "normalized_TF_vector_train = normalize(TF_vector_train, norm='l1', axis=1)\n",
    "\n",
    "# Menampilkan output hasil TF\n",
    "print(\"TF vector pada train set:\")\n",
    "print(TF_vector_train.toarray())\n",
    "\n",
    "print(\"Normalized TF vector pada train set:\")\n",
    "print(normalized_TF_vector_train.toarray())\n"
   ]
  },
  {
   "cell_type": "code",
   "execution_count": 29,
   "metadata": {},
   "outputs": [],
   "source": [
    "# Perhitungan TF vector pada test set menggunakan CountVectorizer yang sudah dilatih pada train set\n",
    "TF_vector_test = cvect.transform(test_data)\n",
    "\n",
    "# Normalisasi TF vector pada test set\n",
    "normalized_TF_vector_test = normalize(TF_vector_test, norm='l1', axis=1)"
   ]
  },
  {
   "cell_type": "code",
   "execution_count": 30,
   "metadata": {},
   "outputs": [
    {
     "name": "stdout",
     "output_type": "stream",
     "text": [
      "Hasil seleksi fitur dengan chi-square pada train set:\n",
      "[[0. 0. 0. ... 0. 0. 0.]\n",
      " [0. 0. 0. ... 0. 0. 0.]\n",
      " [0. 0. 0. ... 0. 0. 0.]\n",
      " ...\n",
      " [0. 0. 0. ... 0. 0. 0.]\n",
      " [0. 0. 0. ... 0. 0. 0.]\n",
      " [0. 0. 0. ... 0. 0. 0.]]\n",
      "Hasil seleksi fitur dengan chi-square pada test set:\n",
      "[[0. 0. 0. ... 0. 0. 0.]\n",
      " [0. 0. 0. ... 0. 0. 0.]\n",
      " [0. 0. 0. ... 0. 0. 0.]\n",
      " ...\n",
      " [0. 0. 0. ... 0. 0. 0.]\n",
      " [0. 0. 0. ... 0. 0. 0.]\n",
      " [0. 0. 0. ... 0. 0. 0.]]\n"
     ]
    }
   ],
   "source": [
    "# Persentase fitur yang ingin dipilih setelah seleksi (10%)\n",
    "percent = 30\n",
    "\n",
    "# Menghitung jumlah fitur yang diinginkan berdasarkan persentase\n",
    "k = int(percent / 100 * normalized_TF_vector_train.shape[1])\n",
    "\n",
    "# Menerapkan seleksi fitur dengan chi-square pada train set\n",
    "selector = SelectPercentile(chi2, percentile=percent)\n",
    "tf_mat_train_selected = selector.fit_transform(normalized_TF_vector_train, train_labels)\n",
    "\n",
    "# Mengaplikasikan seleksi fitur yang sama pada test set\n",
    "tf_mat_test_selected = selector.transform(normalized_TF_vector_test)\n",
    "\n",
    "# Menampilkan hasil seleksi fitur dengan chi-square pada train set\n",
    "print(\"Hasil seleksi fitur dengan chi-square pada train set:\")\n",
    "print(tf_mat_train_selected.toarray())\n",
    "\n",
    "# Menampilkan hasil seleksi fitur dengan chi-square pada test set\n",
    "print(\"Hasil seleksi fitur dengan chi-square pada test set:\")\n",
    "print(tf_mat_test_selected.toarray())\n"
   ]
  },
  {
   "cell_type": "code",
   "execution_count": 31,
   "metadata": {},
   "outputs": [
    {
     "name": "stdout",
     "output_type": "stream",
     "text": [
      "Jumlah data uji positif : 83\n",
      "Jumlah data uji negatif : 84\n",
      "Jumlah prediksi benar\t: 155\n",
      "Jumlah prediksi salah\t: 12\n",
      "Jumlah prediksi positif\t: 85\n",
      "Jumlah prediksi negatif\t: 82\n",
      "Akurasi: 0.9281437125748503\n",
      "Precision: 0.9176470588235294\n",
      "Recall: 0.9397590361445783\n",
      "F1-score: 0.9285714285714286\n"
     ]
    }
   ],
   "source": [
    "# Membuat objek model Multinomial Naive Bayes dengan class_prior yang sesuai\n",
    "model = MultinomialNB(class_prior=[negative_ratio_train, positive_ratio_train])\n",
    "\n",
    "# Melatih model dengan data latih yang sudah diseleksi\n",
    "model.fit(tf_mat_train_selected, train_labels)\n",
    "\n",
    "# Melakukan prediksi pada data uji yang sudah diseleksi\n",
    "predictions = model.predict(tf_mat_test_selected)\n",
    "\n",
    "prediksi_benar = (predictions == test_labels).sum()\n",
    "prediksi_salah = (predictions != test_labels).sum()\n",
    "\n",
    "# Menghitung jumlah data positif dan negatif pada data uji\n",
    "positive_count_test = (test_labels == 1).sum()\n",
    "negative_count_test = (test_labels == 0).sum()\n",
    "\n",
    "# Mencetak jumlah data positif dan negatif pada data uji\n",
    "print(\"Jumlah data uji positif :\", positive_count_test)\n",
    "print(\"Jumlah data uji negatif :\", negative_count_test)\n",
    "\n",
    "print('Jumlah prediksi benar\\t:', prediksi_benar)\n",
    "print('Jumlah prediksi salah\\t:', prediksi_salah)\n",
    "\n",
    "prediksi_positif = (predictions == 1).sum()\n",
    "prediksi_negatif = (predictions == 0).sum()\n",
    "\n",
    "print('Jumlah prediksi positif\\t:', prediksi_positif)\n",
    "print('Jumlah prediksi negatif\\t:', prediksi_negatif)\n",
    "\n",
    "\n",
    "# Menghitung akurasi\n",
    "accuracy = accuracy_score(test_labels, predictions)\n",
    "print(\"Akurasi:\", accuracy)\n",
    "\n",
    "# Menghitung precision\n",
    "precision = precision_score(test_labels, predictions)\n",
    "print(\"Precision:\", precision)\n",
    "\n",
    "# Menghitung recall\n",
    "recall = recall_score(test_labels, predictions)\n",
    "print(\"Recall:\", recall)\n",
    "\n",
    "# Menghitung F1-score\n",
    "f1 = f1_score(test_labels, predictions)\n",
    "print(\"F1-score:\", f1)"
   ]
  },
  {
   "cell_type": "code",
   "execution_count": 32,
   "metadata": {},
   "outputs": [
    {
     "name": "stdout",
     "output_type": "stream",
     "text": [
      "Tabel Cofusion Matrix:\n",
      " [[77  7]\n",
      " [ 5 78]]\n",
      "Classification Report:\n",
      "               precision    recall  f1-score   support\n",
      "\n",
      "     negatif       0.94      0.92      0.93        84\n",
      "     positif       0.92      0.94      0.93        83\n",
      "\n",
      "    accuracy                           0.93       167\n",
      "   macro avg       0.93      0.93      0.93       167\n",
      "weighted avg       0.93      0.93      0.93       167\n",
      "\n"
     ]
    }
   ],
   "source": [
    "# Generate classification report\n",
    "from sklearn.metrics import confusion_matrix\n",
    "from sklearn.metrics import classification_report\n",
    "from sklearn.metrics import accuracy_score\n",
    "# Menghitung confusion matrix\n",
    "cm = confusion_matrix(test_labels, predictions)\n",
    "print('Tabel Cofusion Matrix:\\n', cm)\n",
    "classification_rep = metrics.classification_report(test_labels, predictions, target_names=['negatif', 'positif'])\n",
    "print('Classification Report:\\n', classification_rep)"
   ]
  },
  {
   "attachments": {},
   "cell_type": "markdown",
   "metadata": {},
   "source": [
    "### Menyimpan hasil modeling"
   ]
  },
  {
   "cell_type": "code",
   "execution_count": 33,
   "metadata": {},
   "outputs": [
    {
     "data": {
      "text/plain": [
       "['multinomial_nb_30 percent_model.pkl']"
      ]
     },
     "execution_count": 33,
     "metadata": {},
     "output_type": "execute_result"
    }
   ],
   "source": [
    "\n",
    "# Menyimpan model\n",
    "joblib.dump(model, 'multinomial_nb_30 percent_model.pkl')"
   ]
  }
 ],
 "metadata": {
  "kernelspec": {
   "display_name": "Python 3",
   "language": "python",
   "name": "python3"
  },
  "language_info": {
   "codemirror_mode": {
    "name": "ipython",
    "version": 3
   },
   "file_extension": ".py",
   "mimetype": "text/x-python",
   "name": "python",
   "nbconvert_exporter": "python",
   "pygments_lexer": "ipython3",
   "version": "3.10.7"
  },
  "orig_nbformat": 4
 },
 "nbformat": 4,
 "nbformat_minor": 2
}
