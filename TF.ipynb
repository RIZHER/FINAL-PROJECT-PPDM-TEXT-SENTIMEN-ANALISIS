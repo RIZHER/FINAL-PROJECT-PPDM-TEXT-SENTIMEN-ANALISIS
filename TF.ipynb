{
 "cells": [
  {
   "cell_type": "code",
   "execution_count": 3,
   "metadata": {},
   "outputs": [
    {
     "data": {
      "text/html": [
       "<div>\n",
       "<style scoped>\n",
       "    .dataframe tbody tr th:only-of-type {\n",
       "        vertical-align: middle;\n",
       "    }\n",
       "\n",
       "    .dataframe tbody tr th {\n",
       "        vertical-align: top;\n",
       "    }\n",
       "\n",
       "    .dataframe thead th {\n",
       "        text-align: right;\n",
       "    }\n",
       "</style>\n",
       "<table border=\"1\" class=\"dataframe\">\n",
       "  <thead>\n",
       "    <tr style=\"text-align: right;\">\n",
       "      <th></th>\n",
       "      <th>label</th>\n",
       "      <th>reviews</th>\n",
       "    </tr>\n",
       "  </thead>\n",
       "  <tbody>\n",
       "    <tr>\n",
       "      <th>0</th>\n",
       "      <td>1</td>\n",
       "      <td>['kemeja', 'bagus', 'banget', 'mau', 'nang ken...</td>\n",
       "    </tr>\n",
       "    <tr>\n",
       "      <th>1</th>\n",
       "      <td>0</td>\n",
       "      <td>['jahit', 'rapi cuman', 'benang', 'jahit', 'je...</td>\n",
       "    </tr>\n",
       "    <tr>\n",
       "      <th>2</th>\n",
       "      <td>0</td>\n",
       "      <td>['sesuai', 'harga', 'tipis', 'oke', 'warna', '...</td>\n",
       "    </tr>\n",
       "    <tr>\n",
       "      <th>3</th>\n",
       "      <td>1</td>\n",
       "      <td>['gila', 'sih', 'bagus', 'worth', 'it', 'lembu...</td>\n",
       "    </tr>\n",
       "    <tr>\n",
       "      <th>4</th>\n",
       "      <td>0</td>\n",
       "      <td>['kain', 'bagus', 'halus', 'buka', 'kotor', 'y...</td>\n",
       "    </tr>\n",
       "  </tbody>\n",
       "</table>\n",
       "</div>"
      ],
      "text/plain": [
       "   label                                            reviews\n",
       "0      1  ['kemeja', 'bagus', 'banget', 'mau', 'nang ken...\n",
       "1      0  ['jahit', 'rapi cuman', 'benang', 'jahit', 'je...\n",
       "2      0  ['sesuai', 'harga', 'tipis', 'oke', 'warna', '...\n",
       "3      1  ['gila', 'sih', 'bagus', 'worth', 'it', 'lembu...\n",
       "4      0  ['kain', 'bagus', 'halus', 'buka', 'kotor', 'y..."
      ]
     },
     "execution_count": 3,
     "metadata": {},
     "output_type": "execute_result"
    }
   ],
   "source": [
    "import pandas as pd \n",
    "import numpy as np\n",
    "\n",
    "reviews_data = pd.read_excel(\"reviews_Preprocessing.xlsx\", usecols=[\"Label\", \"reviews_tokens_stemmed\"])\n",
    "reviews_data.columns = [\"label\", \"reviews\"]\n",
    "\n",
    "reviews_data.head()"
   ]
  },
  {
   "cell_type": "code",
   "execution_count": 4,
   "metadata": {},
   "outputs": [
    {
     "name": "stdout",
     "output_type": "stream",
     "text": [
      "['corak', 'pas', 'tidak', 'beda', 'foto', 'bahan', 'jatuh', 'adem', 'tipis', 'tidak', 'nerawang', 'pas', 'banget', 'tinggi', 'bbnya', 'kirim', 'tidak apa', 'barang', 'selamat', 'thank', 'you']\n",
      "\n",
      "type :  <class 'list'>\n"
     ]
    }
   ],
   "source": [
    "import ast\n",
    "\n",
    "def convert_text_list(texts):\n",
    "    texts = ast.literal_eval(texts)\n",
    "    return [text for text in texts]\n",
    "\n",
    "reviews_data[\"reviews_list\"] = reviews_data[\"reviews\"].apply(convert_text_list)\n",
    "\n",
    "\n",
    "print(reviews_data[\"reviews_list\"][90])\n",
    "\n",
    "print(\"\\ntype : \", type(reviews_data[\"reviews_list\"][90]))"
   ]
  },
  {
   "cell_type": "code",
   "execution_count": 5,
   "metadata": {},
   "outputs": [
    {
     "data": {
      "text/plain": [
       "0    {'kemeja': 0.1111111111111111, 'bagus': 0.0833...\n",
       "1    {'jahit': 0.4, 'rapi cuman': 0.2, 'benang': 0....\n",
       "2    {'sesuai': 0.07142857142857142, 'harga': 0.071...\n",
       "3    {'gila': 0.03571428571428571, 'sih': 0.0357142...\n",
       "4    {'kain': 0.125, 'bagus': 0.125, 'halus': 0.125...\n",
       "Name: TF_dict, dtype: object"
      ]
     },
     "execution_count": 5,
     "metadata": {},
     "output_type": "execute_result"
    }
   ],
   "source": [
    "def calc_TF(document):\n",
    "    # Counts the number of times the word appears in review\n",
    "    TF_dict = {}\n",
    "    for term in document:\n",
    "        if term in TF_dict:\n",
    "            TF_dict[term] += 1\n",
    "        else:\n",
    "            TF_dict[term] = 1\n",
    "    # Computes tf for each word\n",
    "    for term in TF_dict:\n",
    "        TF_dict[term] = TF_dict[term] / len(document)\n",
    "    return TF_dict\n",
    "\n",
    "reviews_data[\"TF_dict\"] = reviews_data['reviews_list'].apply(calc_TF)\n",
    "\n",
    "reviews_data[\"TF_dict\"].head()"
   ]
  },
  {
   "cell_type": "code",
   "execution_count": 6,
   "metadata": {},
   "outputs": [
    {
     "name": "stdout",
     "output_type": "stream",
     "text": [
      "                term \t TF\n",
      "\n",
      "               corak \t 0.047619047619047616\n",
      "                 pas \t 0.09523809523809523\n",
      "               tidak \t 0.09523809523809523\n",
      "                beda \t 0.047619047619047616\n",
      "                foto \t 0.047619047619047616\n",
      "               bahan \t 0.047619047619047616\n",
      "               jatuh \t 0.047619047619047616\n",
      "                adem \t 0.047619047619047616\n",
      "               tipis \t 0.047619047619047616\n",
      "            nerawang \t 0.047619047619047616\n",
      "              banget \t 0.047619047619047616\n",
      "              tinggi \t 0.047619047619047616\n",
      "               bbnya \t 0.047619047619047616\n",
      "               kirim \t 0.047619047619047616\n",
      "           tidak apa \t 0.047619047619047616\n",
      "              barang \t 0.047619047619047616\n",
      "             selamat \t 0.047619047619047616\n",
      "               thank \t 0.047619047619047616\n",
      "                 you \t 0.047619047619047616\n"
     ]
    }
   ],
   "source": [
    "\n",
    "# Check TF result\n",
    "index = 90\n",
    "\n",
    "print('%20s' % \"term\", \"\\t\", \"TF\\n\")\n",
    "for key in reviews_data[\"TF_dict\"][index]:\n",
    "    print('%20s' % key, \"\\t\", reviews_data[\"TF_dict\"][index][key])"
   ]
  },
  {
   "cell_type": "code",
   "execution_count": null,
   "metadata": {},
   "outputs": [],
   "source": []
  }
 ],
 "metadata": {
  "kernelspec": {
   "display_name": "Python 3",
   "language": "python",
   "name": "python3"
  },
  "language_info": {
   "codemirror_mode": {
    "name": "ipython",
    "version": 3
   },
   "file_extension": ".py",
   "mimetype": "text/x-python",
   "name": "python",
   "nbconvert_exporter": "python",
   "pygments_lexer": "ipython3",
   "version": "3.11.3"
  },
  "orig_nbformat": 4
 },
 "nbformat": 4,
 "nbformat_minor": 2
}
